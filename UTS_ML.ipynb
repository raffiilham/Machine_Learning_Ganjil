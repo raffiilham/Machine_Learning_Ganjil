{
  "nbformat": 4,
  "nbformat_minor": 0,
  "metadata": {
    "colab": {
      "provenance": [],
      "include_colab_link": true
    },
    "kernelspec": {
      "name": "python3",
      "display_name": "Python 3"
    },
    "language_info": {
      "name": "python"
    }
  },
  "cells": [
    {
      "cell_type": "markdown",
      "metadata": {
        "id": "view-in-github",
        "colab_type": "text"
      },
      "source": [
        "<a href=\"https://colab.research.google.com/github/raffiilham/Machine_Learning_Ganjil/blob/main/UTS_ML.ipynb\" target=\"_parent\"><img src=\"https://colab.research.google.com/assets/colab-badge.svg\" alt=\"Open In Colab\"/></a>"
      ]
    },
    {
      "cell_type": "markdown",
      "source": [
        "# **UTS MACHINE LEARNING**\n",
        "\n",
        "NAMA KELOMPOK :\n",
        "1. AGUSTY LABDANAYOGA/01/2241720215\n",
        "2. ICHA DEWI PUTRIANA / 10 / 2241720069\n",
        "3. IKHWANDI\n",
        "4. RAFI"
      ],
      "metadata": {
        "id": "zhiGxJ_SEi5E"
      }
    },
    {
      "cell_type": "markdown",
      "source": [
        "# Intro\n",
        "\n",
        "Pada kuis ini, Anda diminta untuk melakukan klasifikasi citra wajah dengan menggunakan dataset [CISIA Webface](https://www.kaggle.com/datasets/ntl0601/casia-webface). Perhatian! Dataset ini cukup besar (2.8Gb) dari 500.000 gambar dan 10.575 subjek (label)\n",
        "Spesifikasi pengerjaan UTS yang harus dipehuni adalah,\n",
        "\n",
        "1. Pelajari tentang CISIA Webface!\n",
        "2. Dikarenakan data gambar dari CISIA masih dalam 1 direktori besar, Anda perlu melakukan proses split antara data latih dan data uji. Anda dapat melakukan ini secara manual (langsung dari direktori) atau secara logikal dengan listing direktori. (10 poin)\n",
        "2. Lakukan proses pra pengolahan data. Anda wajib dapat menjelaskan proses pra pengolahan data yang dilakukan. (20 poin)\n",
        "3. Lakukan proses ekstraksi fitur. Fitur yang digunakan bebas. Anda wajib dapat menjelasakan fitur yang digunakan (30 poin)\n",
        "4. Buat model NN dengan arsitektur yang kelompok Anda rancang sendiri. Model arsitektur bebas (jumlah layer, jumlah node, fungsi aktiviasi). (30 poin)\n",
        "6. Evaluasi performa model NN kelompok Anda dengan metrik akurasi, *precision*, *recall*, dan *F1-Score*. Jelaskan maksud dari metric-metric tersebut!"
      ],
      "metadata": {
        "id": "pn-XSYqjZYE5"
      }
    },
    {
      "cell_type": "markdown",
      "source": [
        "# Boilerplate\n",
        "\n",
        "Berikut merupakan boilerplate code yang dapat Anda gunakan sebagai acuan dasar pengerjaan kuis.\n",
        "Anda diperkenankan untuk **menambah** ataupun **mengurangi** bagian boilerplate yang disediakan."
      ],
      "metadata": {
        "id": "I14MmzW4ZbiW"
      }
    },
    {
      "cell_type": "markdown",
      "source": [
        "# Preparation"
      ],
      "metadata": {
        "id": "cIGTB26wZfyQ"
      }
    },
    {
      "cell_type": "code",
      "source": [
        "\n",
        "# Import libraries\n",
        "import numpy as np\n",
        "import kagglehub\n",
        "import os\n",
        "import cv2\n",
        "import matplotlib.pyplot as plt\n",
        "from sklearn.model_selection import train_test_split\n",
        "from sklearn.preprocessing import LabelEncoder\n",
        "from tensorflow.keras.models import Sequential\n",
        "from tensorflow.keras.layers import Conv2D, MaxPooling2D, Dense, Flatten, Dropout, BatchNormalization\n",
        "from tensorflow.keras.utils import to_categorical\n",
        "from sklearn.metrics import accuracy_score, precision_score, recall_score, f1_score\n",
        "import tensorflow as tf"
      ],
      "metadata": {
        "id": "BqVgFjRXAmWP"
      },
      "execution_count": null,
      "outputs": []
    },
    {
      "cell_type": "code",
      "source": [
        "# Download latest version\n",
        "path = kagglehub.dataset_download(\"ntl0601/casia-webface\")\n",
        "\n",
        "print(\"Path to dataset files:\",path)"
      ],
      "metadata": {
        "colab": {
          "base_uri": "https://localhost:8080/"
        },
        "id": "YGxsEo0bAqlH",
        "outputId": "0865a212-d460-4ad4-fec3-846a094cf02b"
      },
      "execution_count": null,
      "outputs": [
        {
          "output_type": "stream",
          "name": "stdout",
          "text": [
            "Downloading from https://www.kaggle.com/api/v1/datasets/download/ntl0601/casia-webface?dataset_version_number=1...\n"
          ]
        },
        {
          "output_type": "stream",
          "name": "stderr",
          "text": [
            "100%|██████████| 2.53G/2.53G [00:26<00:00, 104MB/s]"
          ]
        },
        {
          "output_type": "stream",
          "name": "stdout",
          "text": [
            "Extracting files...\n"
          ]
        },
        {
          "output_type": "stream",
          "name": "stderr",
          "text": [
            "\n"
          ]
        },
        {
          "output_type": "stream",
          "name": "stdout",
          "text": [
            "Path to dataset files: /root/.cache/kagglehub/datasets/ntl0601/casia-webface/versions/1\n"
          ]
        }
      ]
    },
    {
      "cell_type": "markdown",
      "source": [
        "# Load Data"
      ],
      "metadata": {
        "id": "sadDCJxIZkul"
      }
    },
    {
      "cell_type": "code",
      "source": [
        "'''\n",
        "    Bagian ini dapat Anda gunakan untuk melakukan proses loading data\n",
        "    dan juga proses split antara data latih dan data uji berdasarkan direktori gambar\n",
        "'''"
      ],
      "metadata": {
        "colab": {
          "base_uri": "https://localhost:8080/",
          "height": 35
        },
        "id": "NO6UoE5UZu-m",
        "outputId": "254d1633-73e0-41f3-c6d0-d16db5308d4b"
      },
      "execution_count": null,
      "outputs": [
        {
          "output_type": "execute_result",
          "data": {
            "text/plain": [
              "'\\n    Bagian ini dapat Anda gunakan untuk melakukan proses loading data\\n    dan juga proses split antara data latih dan data uji berdasarkan direktori gambar\\n'"
            ],
            "application/vnd.google.colaboratory.intrinsic+json": {
              "type": "string"
            }
          },
          "metadata": {},
          "execution_count": 3
        }
      ]
    },
    {
      "cell_type": "code",
      "source": [
        "# Jalur direktori dataset yang diunduh\n",
        "dataset_path = path  # pastikan `path` mengarah ke direktori yang benar\n",
        "\n",
        "# Memastikan direktori dataset ada\n",
        "if os.path.exists(dataset_path):\n",
        "    print(\"Dataset ditemukan di path:\", dataset_path)\n",
        "\n",
        "    # Melihat isi direktori (menampilkan beberapa file/folder)\n",
        "    files = os.listdir(dataset_path)\n",
        "    if files:\n",
        "        print(f\"{len(files)} file ditemukan dalam dataset. Contoh beberapa file:\")\n",
        "        print(files[:5])  # Menampilkan 5 file/folder pertama\n",
        "    else:\n",
        "        print(\"Direktori ada tetapi kosong.\")\n",
        "else:\n",
        "    print(\"Dataset belum diunduh atau path salah.\")"
      ],
      "metadata": {
        "colab": {
          "base_uri": "https://localhost:8080/"
        },
        "id": "ptnZd73IBSbx",
        "outputId": "08d55815-3d3e-49b0-e82e-de101f7085fb"
      },
      "execution_count": null,
      "outputs": [
        {
          "output_type": "stream",
          "name": "stdout",
          "text": [
            "Dataset ditemukan di path: /root/.cache/kagglehub/datasets/ntl0601/casia-webface/versions/1\n",
            "2 file ditemukan dalam dataset. Contoh beberapa file:\n",
            "['casia-webface.txt', 'casia-webface']\n"
          ]
        }
      ]
    },
    {
      "cell_type": "code",
      "source": [
        "# Tentukan jalur dataset\n",
        "dataset_path = \"/root/.cache/kagglehub/datasets/ntl0601/casia-webface/versions/1/casia-webface\"\n",
        "\n",
        "# Memeriksa apakah dataset path ada dan menghitung gambar\n",
        "image_count = 0\n",
        "\n",
        "if os.path.exists(dataset_path):\n",
        "    for root, dirs, files in os.walk(dataset_path):\n",
        "        for file in files:\n",
        "            if file.endswith(('.jpg', '.jpeg', '.png')):  # Memeriksa format gambar\n",
        "                image_count += 1\n",
        "\n",
        "print(f\"Jumlah gambar ditemukan: {image_count}\")\n"
      ],
      "metadata": {
        "colab": {
          "base_uri": "https://localhost:8080/"
        },
        "id": "XGxU02oOBWIY",
        "outputId": "389d55bd-7dfd-4642-bfa2-895af6b14af7"
      },
      "execution_count": null,
      "outputs": [
        {
          "output_type": "stream",
          "name": "stdout",
          "text": [
            "Jumlah gambar ditemukan: 490623\n"
          ]
        }
      ]
    },
    {
      "cell_type": "code",
      "source": [
        "# Membaca file casia-webface.txt untuk menghitung label unik\n",
        "label_set = set()\n",
        "\n",
        "# Jalur ke file teks yang berisi informasi label\n",
        "file_path = \"/root/.cache/kagglehub/datasets/ntl0601/casia-webface/versions/1/casia-webface.txt\"\n",
        "\n",
        "with open(file_path, 'r') as file:\n",
        "    for line in file:\n",
        "        parts = line.strip().split()\n",
        "        if len(parts) > 1:  # Pastikan ada cukup informasi\n",
        "            label = parts[0]  # Mengambil label dari baris\n",
        "            label_set.add(label)  # Menambahkan label ke set (automatis menghindari duplikasi)\n",
        "\n",
        "# Menampilkan jumlah label unik\n",
        "print(f\"Jumlah label unik ditemukan: {len(label_set)}\")\n"
      ],
      "metadata": {
        "colab": {
          "base_uri": "https://localhost:8080/"
        },
        "id": "XT0cPYZtBaMo",
        "outputId": "08cd9231-a835-487a-edcb-46e863d7343b"
      },
      "execution_count": null,
      "outputs": [
        {
          "output_type": "stream",
          "name": "stdout",
          "text": [
            "Jumlah label unik ditemukan: 10537\n"
          ]
        }
      ]
    },
    {
      "cell_type": "code",
      "source": [
        "# Function to scan directory and collect images\n",
        "def scan_directory(base_path, max_samples=10000):\n",
        "    images = []\n",
        "    labels = []\n",
        "    sample_count = 0\n",
        "\n",
        "    print(f\"Scanning directory: {base_path}\")\n",
        "\n",
        "    # Iterate through each subfolder (label)\n",
        "    for label in os.listdir(base_path):\n",
        "        label_path = os.path.join(base_path, label)\n",
        "\n",
        "        # Skip if not a directory\n",
        "        if not os.path.isdir(label_path):\n",
        "            continue\n",
        "\n",
        "        # Scan images in label folder\n",
        "        for image_name in os.listdir(label_path):\n",
        "            if image_name.lower().endswith(('.jpg', '.jpeg', '.png')):\n",
        "                image_path = os.path.join(label_path, image_name)\n",
        "                images.append(image_path)\n",
        "                labels.append(label)\n",
        "                sample_count += 1\n",
        "\n",
        "                # Print progress every 1000 images\n",
        "                if sample_count % 1000 == 0:\n",
        "                    print(f\"Processed {sample_count} images...\")\n",
        "\n",
        "                # Stop if reached max_samples\n",
        "                if sample_count >= max_samples:\n",
        "                    print(f\"Reached maximum sample size of {max_samples}\")\n",
        "                    return images, labels\n",
        "\n",
        "    print(f\"Total images collected: {len(images)}\")\n",
        "    return images, labels\n",
        "\n",
        "# Path to dataset\n",
        "dataset_path = \"/root/.cache/kagglehub/datasets/ntl0601/casia-webface/versions/1/casia-webface\"\n",
        "\n",
        "# Load dataset\n",
        "print(\"Loading dataset...\")\n",
        "images, labels = scan_directory(dataset_path, max_samples=10000)\n",
        "\n",
        "if len(images) == 0:\n",
        "    raise ValueError(\"No images were loaded successfully\")\n",
        "\n",
        "print(f\"Dataset loaded successfully with {len(images)} images\")"
      ],
      "metadata": {
        "colab": {
          "base_uri": "https://localhost:8080/"
        },
        "id": "d5yqFYo6i17Q",
        "outputId": "3184978b-ffb5-4f92-c8e3-d199a984363f"
      },
      "execution_count": null,
      "outputs": [
        {
          "output_type": "stream",
          "name": "stdout",
          "text": [
            "Loading dataset...\n",
            "Scanning directory: /root/.cache/kagglehub/datasets/ntl0601/casia-webface/versions/1/casia-webface\n",
            "Processed 1000 images...\n",
            "Processed 2000 images...\n",
            "Processed 3000 images...\n",
            "Processed 4000 images...\n",
            "Processed 5000 images...\n",
            "Processed 6000 images...\n",
            "Processed 7000 images...\n",
            "Processed 8000 images...\n",
            "Processed 9000 images...\n",
            "Processed 10000 images...\n",
            "Reached maximum sample size of 10000\n",
            "Dataset loaded successfully with 10000 images\n"
          ]
        }
      ]
    },
    {
      "cell_type": "markdown",
      "source": [
        "# Preprocessing"
      ],
      "metadata": {
        "id": "ZTR927MSi6GQ"
      }
    },
    {
      "cell_type": "code",
      "source": [
        "# Function for preprocessing\n",
        "def preprocess_image(image_path, target_size=(64, 64)):\n",
        "    try:\n",
        "        # Read image\n",
        "        img = cv2.imread(image_path)\n",
        "        if img is None:\n",
        "            print(f\"Failed to load image: {image_path}\")\n",
        "            return None\n",
        "\n",
        "        # Convert to grayscale\n",
        "        img = cv2.cvtColor(img, cv2.COLOR_BGR2GRAY)\n",
        "\n",
        "        # Resize\n",
        "        img = cv2.resize(img, target_size)\n",
        "\n",
        "        # Normalize\n",
        "        img = img / 255.0\n",
        "\n",
        "        # Add channel dimension untuk 3D\n",
        "        img = np.expand_dims(img, axis=-1)\n",
        "\n",
        "        return img\n",
        "\n",
        "    except Exception as e:\n",
        "        print(f\"Error processing image {image_path}: {str(e)}\")\n",
        "        return None\n",
        "\n",
        "# Split dataset\n",
        "X_train, X_test, y_train, y_test = train_test_split(\n",
        "    images, labels, test_size=0.2, random_state=42\n",
        ")\n",
        "print(f\"Train set: {len(X_train)} images\")\n",
        "print(f\"Test set: {len(X_test)} images\")\n",
        "\n",
        "# Preprocessing data\n",
        "print(\"\\nPreprocessing data...\")\n",
        "X_train_processed = []\n",
        "X_test_processed = []\n",
        "\n",
        "# Process training data\n",
        "for i, img_path in enumerate(X_train):\n",
        "    if i % 100 == 0:  # Progress update\n",
        "        print(f\"Processing training image {i}/{len(X_train)}\")\n",
        "    img = preprocess_image(img_path)\n",
        "    if img is not None:\n",
        "        X_train_processed.append(img)\n",
        "\n",
        "# Process testing data\n",
        "for i, img_path in enumerate(X_test):\n",
        "    if i % 100 == 0:  # Progress update\n",
        "        print(f\"Processing testing image {i}/{len(X_test)}\")\n",
        "    img = preprocess_image(img_path)\n",
        "    if img is not None:\n",
        "        X_test_processed.append(img)\n",
        "\n",
        "X_train_processed = np.array(X_train_processed)\n",
        "X_test_processed = np.array(X_test_processed)\n",
        "\n",
        "print(f\"Processed training shape: {X_train_processed.shape}\")\n",
        "print(f\"Processed testing shape: {X_test_processed.shape}\")\n",
        "\n",
        "# Label encoding\n",
        "le = LabelEncoder()\n",
        "y_train_encoded = le.fit_transform(y_train)\n",
        "y_test_encoded = le.transform(y_test)"
      ],
      "metadata": {
        "colab": {
          "base_uri": "https://localhost:8080/"
        },
        "id": "3gVgU5J0i9sC",
        "outputId": "093bfa5f-5bf6-49c7-bd68-ad929a3204c9"
      },
      "execution_count": null,
      "outputs": [
        {
          "output_type": "stream",
          "name": "stdout",
          "text": [
            "Train set: 8000 images\n",
            "Test set: 2000 images\n",
            "\n",
            "Preprocessing data...\n",
            "Processing training image 0/8000\n",
            "Processing training image 100/8000\n",
            "Processing training image 200/8000\n",
            "Processing training image 300/8000\n",
            "Processing training image 400/8000\n",
            "Processing training image 500/8000\n",
            "Processing training image 600/8000\n",
            "Processing training image 700/8000\n",
            "Processing training image 800/8000\n",
            "Processing training image 900/8000\n",
            "Processing training image 1000/8000\n",
            "Processing training image 1100/8000\n",
            "Processing training image 1200/8000\n",
            "Processing training image 1300/8000\n",
            "Processing training image 1400/8000\n",
            "Processing training image 1500/8000\n",
            "Processing training image 1600/8000\n",
            "Processing training image 1700/8000\n",
            "Processing training image 1800/8000\n",
            "Processing training image 1900/8000\n",
            "Processing training image 2000/8000\n",
            "Processing training image 2100/8000\n",
            "Processing training image 2200/8000\n",
            "Processing training image 2300/8000\n",
            "Processing training image 2400/8000\n",
            "Processing training image 2500/8000\n",
            "Processing training image 2600/8000\n",
            "Processing training image 2700/8000\n",
            "Processing training image 2800/8000\n",
            "Processing training image 2900/8000\n",
            "Processing training image 3000/8000\n",
            "Processing training image 3100/8000\n",
            "Processing training image 3200/8000\n",
            "Processing training image 3300/8000\n",
            "Processing training image 3400/8000\n",
            "Processing training image 3500/8000\n",
            "Processing training image 3600/8000\n",
            "Processing training image 3700/8000\n",
            "Processing training image 3800/8000\n",
            "Processing training image 3900/8000\n",
            "Processing training image 4000/8000\n",
            "Processing training image 4100/8000\n",
            "Processing training image 4200/8000\n",
            "Processing training image 4300/8000\n",
            "Processing training image 4400/8000\n",
            "Processing training image 4500/8000\n",
            "Processing training image 4600/8000\n",
            "Processing training image 4700/8000\n",
            "Processing training image 4800/8000\n",
            "Processing training image 4900/8000\n",
            "Processing training image 5000/8000\n",
            "Processing training image 5100/8000\n",
            "Processing training image 5200/8000\n",
            "Processing training image 5300/8000\n",
            "Processing training image 5400/8000\n",
            "Processing training image 5500/8000\n",
            "Processing training image 5600/8000\n",
            "Processing training image 5700/8000\n",
            "Processing training image 5800/8000\n",
            "Processing training image 5900/8000\n",
            "Processing training image 6000/8000\n",
            "Processing training image 6100/8000\n",
            "Processing training image 6200/8000\n",
            "Processing training image 6300/8000\n",
            "Processing training image 6400/8000\n",
            "Processing training image 6500/8000\n",
            "Processing training image 6600/8000\n",
            "Processing training image 6700/8000\n",
            "Processing training image 6800/8000\n",
            "Processing training image 6900/8000\n",
            "Processing training image 7000/8000\n",
            "Processing training image 7100/8000\n",
            "Processing training image 7200/8000\n",
            "Processing training image 7300/8000\n",
            "Processing training image 7400/8000\n",
            "Processing training image 7500/8000\n",
            "Processing training image 7600/8000\n",
            "Processing training image 7700/8000\n",
            "Processing training image 7800/8000\n",
            "Processing training image 7900/8000\n",
            "Processing testing image 0/2000\n",
            "Processing testing image 100/2000\n",
            "Processing testing image 200/2000\n",
            "Processing testing image 300/2000\n",
            "Processing testing image 400/2000\n",
            "Processing testing image 500/2000\n",
            "Processing testing image 600/2000\n",
            "Processing testing image 700/2000\n",
            "Processing testing image 800/2000\n",
            "Processing testing image 900/2000\n",
            "Processing testing image 1000/2000\n",
            "Processing testing image 1100/2000\n",
            "Processing testing image 1200/2000\n",
            "Processing testing image 1300/2000\n",
            "Processing testing image 1400/2000\n",
            "Processing testing image 1500/2000\n",
            "Processing testing image 1600/2000\n",
            "Processing testing image 1700/2000\n",
            "Processing testing image 1800/2000\n",
            "Processing testing image 1900/2000\n",
            "Processed training shape: (8000, 64, 64, 1)\n",
            "Processed testing shape: (2000, 64, 64, 1)\n"
          ]
        }
      ]
    },
    {
      "cell_type": "markdown",
      "source": [
        "# Features Extraction"
      ],
      "metadata": {
        "id": "qmWb7JPnjCTR"
      }
    },
    {
      "cell_type": "code",
      "source": [
        "# Convert to categorical\n",
        "y_train_cat = to_categorical(y_train_encoded)\n",
        "y_test_cat = to_categorical(y_test_encoded)"
      ],
      "metadata": {
        "id": "kWijipEFjHZa"
      },
      "execution_count": null,
      "outputs": []
    },
    {
      "cell_type": "markdown",
      "source": [
        "# Build Model"
      ],
      "metadata": {
        "id": "OxDwaaRKjKVc"
      }
    },
    {
      "cell_type": "code",
      "source": [
        "# Build model function\n",
        "def build_model(input_shape, num_classes):\n",
        "    model = Sequential([\n",
        "        # First Convolutional Block\n",
        "        Conv2D(32, (3, 3), padding='same', input_shape=input_shape),\n",
        "        BatchNormalization(),\n",
        "        tf.keras.layers.Activation('relu'),\n",
        "        MaxPooling2D((2, 2)),\n",
        "        Dropout(0.25),\n",
        "\n",
        "        # Second Convolutional Block\n",
        "        Conv2D(64, (3, 3), padding='same'),\n",
        "        BatchNormalization(),\n",
        "        tf.keras.layers.Activation('relu'),\n",
        "        MaxPooling2D((2, 2)),\n",
        "        Dropout(0.25),\n",
        "\n",
        "        # Third Convolutional Block\n",
        "        Conv2D(128, (3, 3), padding='same'),\n",
        "        BatchNormalization(),\n",
        "        tf.keras.layers.Activation('relu'),\n",
        "        MaxPooling2D((2, 2)),\n",
        "        Dropout(0.25),\n",
        "\n",
        "        # Dense Layers\n",
        "        Flatten(),\n",
        "        Dense(512),\n",
        "        BatchNormalization(),\n",
        "        tf.keras.layers.Activation('relu'),\n",
        "        Dropout(0.5),\n",
        "        Dense(num_classes, activation='softmax')\n",
        "    ])\n",
        "\n",
        "    return model\n",
        "\n",
        "# Compile and train model\n",
        "print(\"\\nBuilding and training model...\")\n",
        "input_shape = (64, 64, 1)  # Grayscale images\n",
        "num_classes = len(np.unique(y_train_encoded))\n",
        "model = build_model(input_shape, num_classes)\n",
        "\n",
        "# Model summary\n",
        "model.summary()"
      ],
      "metadata": {
        "colab": {
          "base_uri": "https://localhost:8080/",
          "height": 1000
        },
        "id": "YDDG__FhjM5c",
        "outputId": "ab1ea252-4bbe-4c2b-9f72-dd59618e91f5"
      },
      "execution_count": null,
      "outputs": [
        {
          "output_type": "stream",
          "name": "stdout",
          "text": [
            "\n",
            "Building and training model...\n"
          ]
        },
        {
          "output_type": "stream",
          "name": "stderr",
          "text": [
            "/usr/local/lib/python3.10/dist-packages/keras/src/layers/convolutional/base_conv.py:107: UserWarning: Do not pass an `input_shape`/`input_dim` argument to a layer. When using Sequential models, prefer using an `Input(shape)` object as the first layer in the model instead.\n",
            "  super().__init__(activity_regularizer=activity_regularizer, **kwargs)\n"
          ]
        },
        {
          "output_type": "display_data",
          "data": {
            "text/plain": [
              "\u001b[1mModel: \"sequential\"\u001b[0m\n"
            ],
            "text/html": [
              "<pre style=\"white-space:pre;overflow-x:auto;line-height:normal;font-family:Menlo,'DejaVu Sans Mono',consolas,'Courier New',monospace\"><span style=\"font-weight: bold\">Model: \"sequential\"</span>\n",
              "</pre>\n"
            ]
          },
          "metadata": {}
        },
        {
          "output_type": "display_data",
          "data": {
            "text/plain": [
              "┏━━━━━━━━━━━━━━━━━━━━━━━━━━━━━━━━━━━━━━┳━━━━━━━━━━━━━━━━━━━━━━━━━━━━━┳━━━━━━━━━━━━━━━━━┓\n",
              "┃\u001b[1m \u001b[0m\u001b[1mLayer (type)                        \u001b[0m\u001b[1m \u001b[0m┃\u001b[1m \u001b[0m\u001b[1mOutput Shape               \u001b[0m\u001b[1m \u001b[0m┃\u001b[1m \u001b[0m\u001b[1m        Param #\u001b[0m\u001b[1m \u001b[0m┃\n",
              "┡━━━━━━━━━━━━━━━━━━━━━━━━━━━━━━━━━━━━━━╇━━━━━━━━━━━━━━━━━━━━━━━━━━━━━╇━━━━━━━━━━━━━━━━━┩\n",
              "│ conv2d (\u001b[38;5;33mConv2D\u001b[0m)                      │ (\u001b[38;5;45mNone\u001b[0m, \u001b[38;5;34m64\u001b[0m, \u001b[38;5;34m64\u001b[0m, \u001b[38;5;34m32\u001b[0m)          │             \u001b[38;5;34m320\u001b[0m │\n",
              "├──────────────────────────────────────┼─────────────────────────────┼─────────────────┤\n",
              "│ batch_normalization                  │ (\u001b[38;5;45mNone\u001b[0m, \u001b[38;5;34m64\u001b[0m, \u001b[38;5;34m64\u001b[0m, \u001b[38;5;34m32\u001b[0m)          │             \u001b[38;5;34m128\u001b[0m │\n",
              "│ (\u001b[38;5;33mBatchNormalization\u001b[0m)                 │                             │                 │\n",
              "├──────────────────────────────────────┼─────────────────────────────┼─────────────────┤\n",
              "│ activation (\u001b[38;5;33mActivation\u001b[0m)              │ (\u001b[38;5;45mNone\u001b[0m, \u001b[38;5;34m64\u001b[0m, \u001b[38;5;34m64\u001b[0m, \u001b[38;5;34m32\u001b[0m)          │               \u001b[38;5;34m0\u001b[0m │\n",
              "├──────────────────────────────────────┼─────────────────────────────┼─────────────────┤\n",
              "│ max_pooling2d (\u001b[38;5;33mMaxPooling2D\u001b[0m)         │ (\u001b[38;5;45mNone\u001b[0m, \u001b[38;5;34m32\u001b[0m, \u001b[38;5;34m32\u001b[0m, \u001b[38;5;34m32\u001b[0m)          │               \u001b[38;5;34m0\u001b[0m │\n",
              "├──────────────────────────────────────┼─────────────────────────────┼─────────────────┤\n",
              "│ dropout (\u001b[38;5;33mDropout\u001b[0m)                    │ (\u001b[38;5;45mNone\u001b[0m, \u001b[38;5;34m32\u001b[0m, \u001b[38;5;34m32\u001b[0m, \u001b[38;5;34m32\u001b[0m)          │               \u001b[38;5;34m0\u001b[0m │\n",
              "├──────────────────────────────────────┼─────────────────────────────┼─────────────────┤\n",
              "│ conv2d_1 (\u001b[38;5;33mConv2D\u001b[0m)                    │ (\u001b[38;5;45mNone\u001b[0m, \u001b[38;5;34m32\u001b[0m, \u001b[38;5;34m32\u001b[0m, \u001b[38;5;34m64\u001b[0m)          │          \u001b[38;5;34m18,496\u001b[0m │\n",
              "├──────────────────────────────────────┼─────────────────────────────┼─────────────────┤\n",
              "│ batch_normalization_1                │ (\u001b[38;5;45mNone\u001b[0m, \u001b[38;5;34m32\u001b[0m, \u001b[38;5;34m32\u001b[0m, \u001b[38;5;34m64\u001b[0m)          │             \u001b[38;5;34m256\u001b[0m │\n",
              "│ (\u001b[38;5;33mBatchNormalization\u001b[0m)                 │                             │                 │\n",
              "├──────────────────────────────────────┼─────────────────────────────┼─────────────────┤\n",
              "│ activation_1 (\u001b[38;5;33mActivation\u001b[0m)            │ (\u001b[38;5;45mNone\u001b[0m, \u001b[38;5;34m32\u001b[0m, \u001b[38;5;34m32\u001b[0m, \u001b[38;5;34m64\u001b[0m)          │               \u001b[38;5;34m0\u001b[0m │\n",
              "├──────────────────────────────────────┼─────────────────────────────┼─────────────────┤\n",
              "│ max_pooling2d_1 (\u001b[38;5;33mMaxPooling2D\u001b[0m)       │ (\u001b[38;5;45mNone\u001b[0m, \u001b[38;5;34m16\u001b[0m, \u001b[38;5;34m16\u001b[0m, \u001b[38;5;34m64\u001b[0m)          │               \u001b[38;5;34m0\u001b[0m │\n",
              "├──────────────────────────────────────┼─────────────────────────────┼─────────────────┤\n",
              "│ dropout_1 (\u001b[38;5;33mDropout\u001b[0m)                  │ (\u001b[38;5;45mNone\u001b[0m, \u001b[38;5;34m16\u001b[0m, \u001b[38;5;34m16\u001b[0m, \u001b[38;5;34m64\u001b[0m)          │               \u001b[38;5;34m0\u001b[0m │\n",
              "├──────────────────────────────────────┼─────────────────────────────┼─────────────────┤\n",
              "│ conv2d_2 (\u001b[38;5;33mConv2D\u001b[0m)                    │ (\u001b[38;5;45mNone\u001b[0m, \u001b[38;5;34m16\u001b[0m, \u001b[38;5;34m16\u001b[0m, \u001b[38;5;34m128\u001b[0m)         │          \u001b[38;5;34m73,856\u001b[0m │\n",
              "├──────────────────────────────────────┼─────────────────────────────┼─────────────────┤\n",
              "│ batch_normalization_2                │ (\u001b[38;5;45mNone\u001b[0m, \u001b[38;5;34m16\u001b[0m, \u001b[38;5;34m16\u001b[0m, \u001b[38;5;34m128\u001b[0m)         │             \u001b[38;5;34m512\u001b[0m │\n",
              "│ (\u001b[38;5;33mBatchNormalization\u001b[0m)                 │                             │                 │\n",
              "├──────────────────────────────────────┼─────────────────────────────┼─────────────────┤\n",
              "│ activation_2 (\u001b[38;5;33mActivation\u001b[0m)            │ (\u001b[38;5;45mNone\u001b[0m, \u001b[38;5;34m16\u001b[0m, \u001b[38;5;34m16\u001b[0m, \u001b[38;5;34m128\u001b[0m)         │               \u001b[38;5;34m0\u001b[0m │\n",
              "├──────────────────────────────────────┼─────────────────────────────┼─────────────────┤\n",
              "│ max_pooling2d_2 (\u001b[38;5;33mMaxPooling2D\u001b[0m)       │ (\u001b[38;5;45mNone\u001b[0m, \u001b[38;5;34m8\u001b[0m, \u001b[38;5;34m8\u001b[0m, \u001b[38;5;34m128\u001b[0m)           │               \u001b[38;5;34m0\u001b[0m │\n",
              "├──────────────────────────────────────┼─────────────────────────────┼─────────────────┤\n",
              "│ dropout_2 (\u001b[38;5;33mDropout\u001b[0m)                  │ (\u001b[38;5;45mNone\u001b[0m, \u001b[38;5;34m8\u001b[0m, \u001b[38;5;34m8\u001b[0m, \u001b[38;5;34m128\u001b[0m)           │               \u001b[38;5;34m0\u001b[0m │\n",
              "├──────────────────────────────────────┼─────────────────────────────┼─────────────────┤\n",
              "│ flatten (\u001b[38;5;33mFlatten\u001b[0m)                    │ (\u001b[38;5;45mNone\u001b[0m, \u001b[38;5;34m8192\u001b[0m)                │               \u001b[38;5;34m0\u001b[0m │\n",
              "├──────────────────────────────────────┼─────────────────────────────┼─────────────────┤\n",
              "│ dense (\u001b[38;5;33mDense\u001b[0m)                        │ (\u001b[38;5;45mNone\u001b[0m, \u001b[38;5;34m512\u001b[0m)                 │       \u001b[38;5;34m4,194,816\u001b[0m │\n",
              "├──────────────────────────────────────┼─────────────────────────────┼─────────────────┤\n",
              "│ batch_normalization_3                │ (\u001b[38;5;45mNone\u001b[0m, \u001b[38;5;34m512\u001b[0m)                 │           \u001b[38;5;34m2,048\u001b[0m │\n",
              "│ (\u001b[38;5;33mBatchNormalization\u001b[0m)                 │                             │                 │\n",
              "├──────────────────────────────────────┼─────────────────────────────┼─────────────────┤\n",
              "│ activation_3 (\u001b[38;5;33mActivation\u001b[0m)            │ (\u001b[38;5;45mNone\u001b[0m, \u001b[38;5;34m512\u001b[0m)                 │               \u001b[38;5;34m0\u001b[0m │\n",
              "├──────────────────────────────────────┼─────────────────────────────┼─────────────────┤\n",
              "│ dropout_3 (\u001b[38;5;33mDropout\u001b[0m)                  │ (\u001b[38;5;45mNone\u001b[0m, \u001b[38;5;34m512\u001b[0m)                 │               \u001b[38;5;34m0\u001b[0m │\n",
              "├──────────────────────────────────────┼─────────────────────────────┼─────────────────┤\n",
              "│ dense_1 (\u001b[38;5;33mDense\u001b[0m)                      │ (\u001b[38;5;45mNone\u001b[0m, \u001b[38;5;34m235\u001b[0m)                 │         \u001b[38;5;34m120,555\u001b[0m │\n",
              "└──────────────────────────────────────┴─────────────────────────────┴─────────────────┘\n"
            ],
            "text/html": [
              "<pre style=\"white-space:pre;overflow-x:auto;line-height:normal;font-family:Menlo,'DejaVu Sans Mono',consolas,'Courier New',monospace\">┏━━━━━━━━━━━━━━━━━━━━━━━━━━━━━━━━━━━━━━┳━━━━━━━━━━━━━━━━━━━━━━━━━━━━━┳━━━━━━━━━━━━━━━━━┓\n",
              "┃<span style=\"font-weight: bold\"> Layer (type)                         </span>┃<span style=\"font-weight: bold\"> Output Shape                </span>┃<span style=\"font-weight: bold\">         Param # </span>┃\n",
              "┡━━━━━━━━━━━━━━━━━━━━━━━━━━━━━━━━━━━━━━╇━━━━━━━━━━━━━━━━━━━━━━━━━━━━━╇━━━━━━━━━━━━━━━━━┩\n",
              "│ conv2d (<span style=\"color: #0087ff; text-decoration-color: #0087ff\">Conv2D</span>)                      │ (<span style=\"color: #00d7ff; text-decoration-color: #00d7ff\">None</span>, <span style=\"color: #00af00; text-decoration-color: #00af00\">64</span>, <span style=\"color: #00af00; text-decoration-color: #00af00\">64</span>, <span style=\"color: #00af00; text-decoration-color: #00af00\">32</span>)          │             <span style=\"color: #00af00; text-decoration-color: #00af00\">320</span> │\n",
              "├──────────────────────────────────────┼─────────────────────────────┼─────────────────┤\n",
              "│ batch_normalization                  │ (<span style=\"color: #00d7ff; text-decoration-color: #00d7ff\">None</span>, <span style=\"color: #00af00; text-decoration-color: #00af00\">64</span>, <span style=\"color: #00af00; text-decoration-color: #00af00\">64</span>, <span style=\"color: #00af00; text-decoration-color: #00af00\">32</span>)          │             <span style=\"color: #00af00; text-decoration-color: #00af00\">128</span> │\n",
              "│ (<span style=\"color: #0087ff; text-decoration-color: #0087ff\">BatchNormalization</span>)                 │                             │                 │\n",
              "├──────────────────────────────────────┼─────────────────────────────┼─────────────────┤\n",
              "│ activation (<span style=\"color: #0087ff; text-decoration-color: #0087ff\">Activation</span>)              │ (<span style=\"color: #00d7ff; text-decoration-color: #00d7ff\">None</span>, <span style=\"color: #00af00; text-decoration-color: #00af00\">64</span>, <span style=\"color: #00af00; text-decoration-color: #00af00\">64</span>, <span style=\"color: #00af00; text-decoration-color: #00af00\">32</span>)          │               <span style=\"color: #00af00; text-decoration-color: #00af00\">0</span> │\n",
              "├──────────────────────────────────────┼─────────────────────────────┼─────────────────┤\n",
              "│ max_pooling2d (<span style=\"color: #0087ff; text-decoration-color: #0087ff\">MaxPooling2D</span>)         │ (<span style=\"color: #00d7ff; text-decoration-color: #00d7ff\">None</span>, <span style=\"color: #00af00; text-decoration-color: #00af00\">32</span>, <span style=\"color: #00af00; text-decoration-color: #00af00\">32</span>, <span style=\"color: #00af00; text-decoration-color: #00af00\">32</span>)          │               <span style=\"color: #00af00; text-decoration-color: #00af00\">0</span> │\n",
              "├──────────────────────────────────────┼─────────────────────────────┼─────────────────┤\n",
              "│ dropout (<span style=\"color: #0087ff; text-decoration-color: #0087ff\">Dropout</span>)                    │ (<span style=\"color: #00d7ff; text-decoration-color: #00d7ff\">None</span>, <span style=\"color: #00af00; text-decoration-color: #00af00\">32</span>, <span style=\"color: #00af00; text-decoration-color: #00af00\">32</span>, <span style=\"color: #00af00; text-decoration-color: #00af00\">32</span>)          │               <span style=\"color: #00af00; text-decoration-color: #00af00\">0</span> │\n",
              "├──────────────────────────────────────┼─────────────────────────────┼─────────────────┤\n",
              "│ conv2d_1 (<span style=\"color: #0087ff; text-decoration-color: #0087ff\">Conv2D</span>)                    │ (<span style=\"color: #00d7ff; text-decoration-color: #00d7ff\">None</span>, <span style=\"color: #00af00; text-decoration-color: #00af00\">32</span>, <span style=\"color: #00af00; text-decoration-color: #00af00\">32</span>, <span style=\"color: #00af00; text-decoration-color: #00af00\">64</span>)          │          <span style=\"color: #00af00; text-decoration-color: #00af00\">18,496</span> │\n",
              "├──────────────────────────────────────┼─────────────────────────────┼─────────────────┤\n",
              "│ batch_normalization_1                │ (<span style=\"color: #00d7ff; text-decoration-color: #00d7ff\">None</span>, <span style=\"color: #00af00; text-decoration-color: #00af00\">32</span>, <span style=\"color: #00af00; text-decoration-color: #00af00\">32</span>, <span style=\"color: #00af00; text-decoration-color: #00af00\">64</span>)          │             <span style=\"color: #00af00; text-decoration-color: #00af00\">256</span> │\n",
              "│ (<span style=\"color: #0087ff; text-decoration-color: #0087ff\">BatchNormalization</span>)                 │                             │                 │\n",
              "├──────────────────────────────────────┼─────────────────────────────┼─────────────────┤\n",
              "│ activation_1 (<span style=\"color: #0087ff; text-decoration-color: #0087ff\">Activation</span>)            │ (<span style=\"color: #00d7ff; text-decoration-color: #00d7ff\">None</span>, <span style=\"color: #00af00; text-decoration-color: #00af00\">32</span>, <span style=\"color: #00af00; text-decoration-color: #00af00\">32</span>, <span style=\"color: #00af00; text-decoration-color: #00af00\">64</span>)          │               <span style=\"color: #00af00; text-decoration-color: #00af00\">0</span> │\n",
              "├──────────────────────────────────────┼─────────────────────────────┼─────────────────┤\n",
              "│ max_pooling2d_1 (<span style=\"color: #0087ff; text-decoration-color: #0087ff\">MaxPooling2D</span>)       │ (<span style=\"color: #00d7ff; text-decoration-color: #00d7ff\">None</span>, <span style=\"color: #00af00; text-decoration-color: #00af00\">16</span>, <span style=\"color: #00af00; text-decoration-color: #00af00\">16</span>, <span style=\"color: #00af00; text-decoration-color: #00af00\">64</span>)          │               <span style=\"color: #00af00; text-decoration-color: #00af00\">0</span> │\n",
              "├──────────────────────────────────────┼─────────────────────────────┼─────────────────┤\n",
              "│ dropout_1 (<span style=\"color: #0087ff; text-decoration-color: #0087ff\">Dropout</span>)                  │ (<span style=\"color: #00d7ff; text-decoration-color: #00d7ff\">None</span>, <span style=\"color: #00af00; text-decoration-color: #00af00\">16</span>, <span style=\"color: #00af00; text-decoration-color: #00af00\">16</span>, <span style=\"color: #00af00; text-decoration-color: #00af00\">64</span>)          │               <span style=\"color: #00af00; text-decoration-color: #00af00\">0</span> │\n",
              "├──────────────────────────────────────┼─────────────────────────────┼─────────────────┤\n",
              "│ conv2d_2 (<span style=\"color: #0087ff; text-decoration-color: #0087ff\">Conv2D</span>)                    │ (<span style=\"color: #00d7ff; text-decoration-color: #00d7ff\">None</span>, <span style=\"color: #00af00; text-decoration-color: #00af00\">16</span>, <span style=\"color: #00af00; text-decoration-color: #00af00\">16</span>, <span style=\"color: #00af00; text-decoration-color: #00af00\">128</span>)         │          <span style=\"color: #00af00; text-decoration-color: #00af00\">73,856</span> │\n",
              "├──────────────────────────────────────┼─────────────────────────────┼─────────────────┤\n",
              "│ batch_normalization_2                │ (<span style=\"color: #00d7ff; text-decoration-color: #00d7ff\">None</span>, <span style=\"color: #00af00; text-decoration-color: #00af00\">16</span>, <span style=\"color: #00af00; text-decoration-color: #00af00\">16</span>, <span style=\"color: #00af00; text-decoration-color: #00af00\">128</span>)         │             <span style=\"color: #00af00; text-decoration-color: #00af00\">512</span> │\n",
              "│ (<span style=\"color: #0087ff; text-decoration-color: #0087ff\">BatchNormalization</span>)                 │                             │                 │\n",
              "├──────────────────────────────────────┼─────────────────────────────┼─────────────────┤\n",
              "│ activation_2 (<span style=\"color: #0087ff; text-decoration-color: #0087ff\">Activation</span>)            │ (<span style=\"color: #00d7ff; text-decoration-color: #00d7ff\">None</span>, <span style=\"color: #00af00; text-decoration-color: #00af00\">16</span>, <span style=\"color: #00af00; text-decoration-color: #00af00\">16</span>, <span style=\"color: #00af00; text-decoration-color: #00af00\">128</span>)         │               <span style=\"color: #00af00; text-decoration-color: #00af00\">0</span> │\n",
              "├──────────────────────────────────────┼─────────────────────────────┼─────────────────┤\n",
              "│ max_pooling2d_2 (<span style=\"color: #0087ff; text-decoration-color: #0087ff\">MaxPooling2D</span>)       │ (<span style=\"color: #00d7ff; text-decoration-color: #00d7ff\">None</span>, <span style=\"color: #00af00; text-decoration-color: #00af00\">8</span>, <span style=\"color: #00af00; text-decoration-color: #00af00\">8</span>, <span style=\"color: #00af00; text-decoration-color: #00af00\">128</span>)           │               <span style=\"color: #00af00; text-decoration-color: #00af00\">0</span> │\n",
              "├──────────────────────────────────────┼─────────────────────────────┼─────────────────┤\n",
              "│ dropout_2 (<span style=\"color: #0087ff; text-decoration-color: #0087ff\">Dropout</span>)                  │ (<span style=\"color: #00d7ff; text-decoration-color: #00d7ff\">None</span>, <span style=\"color: #00af00; text-decoration-color: #00af00\">8</span>, <span style=\"color: #00af00; text-decoration-color: #00af00\">8</span>, <span style=\"color: #00af00; text-decoration-color: #00af00\">128</span>)           │               <span style=\"color: #00af00; text-decoration-color: #00af00\">0</span> │\n",
              "├──────────────────────────────────────┼─────────────────────────────┼─────────────────┤\n",
              "│ flatten (<span style=\"color: #0087ff; text-decoration-color: #0087ff\">Flatten</span>)                    │ (<span style=\"color: #00d7ff; text-decoration-color: #00d7ff\">None</span>, <span style=\"color: #00af00; text-decoration-color: #00af00\">8192</span>)                │               <span style=\"color: #00af00; text-decoration-color: #00af00\">0</span> │\n",
              "├──────────────────────────────────────┼─────────────────────────────┼─────────────────┤\n",
              "│ dense (<span style=\"color: #0087ff; text-decoration-color: #0087ff\">Dense</span>)                        │ (<span style=\"color: #00d7ff; text-decoration-color: #00d7ff\">None</span>, <span style=\"color: #00af00; text-decoration-color: #00af00\">512</span>)                 │       <span style=\"color: #00af00; text-decoration-color: #00af00\">4,194,816</span> │\n",
              "├──────────────────────────────────────┼─────────────────────────────┼─────────────────┤\n",
              "│ batch_normalization_3                │ (<span style=\"color: #00d7ff; text-decoration-color: #00d7ff\">None</span>, <span style=\"color: #00af00; text-decoration-color: #00af00\">512</span>)                 │           <span style=\"color: #00af00; text-decoration-color: #00af00\">2,048</span> │\n",
              "│ (<span style=\"color: #0087ff; text-decoration-color: #0087ff\">BatchNormalization</span>)                 │                             │                 │\n",
              "├──────────────────────────────────────┼─────────────────────────────┼─────────────────┤\n",
              "│ activation_3 (<span style=\"color: #0087ff; text-decoration-color: #0087ff\">Activation</span>)            │ (<span style=\"color: #00d7ff; text-decoration-color: #00d7ff\">None</span>, <span style=\"color: #00af00; text-decoration-color: #00af00\">512</span>)                 │               <span style=\"color: #00af00; text-decoration-color: #00af00\">0</span> │\n",
              "├──────────────────────────────────────┼─────────────────────────────┼─────────────────┤\n",
              "│ dropout_3 (<span style=\"color: #0087ff; text-decoration-color: #0087ff\">Dropout</span>)                  │ (<span style=\"color: #00d7ff; text-decoration-color: #00d7ff\">None</span>, <span style=\"color: #00af00; text-decoration-color: #00af00\">512</span>)                 │               <span style=\"color: #00af00; text-decoration-color: #00af00\">0</span> │\n",
              "├──────────────────────────────────────┼─────────────────────────────┼─────────────────┤\n",
              "│ dense_1 (<span style=\"color: #0087ff; text-decoration-color: #0087ff\">Dense</span>)                      │ (<span style=\"color: #00d7ff; text-decoration-color: #00d7ff\">None</span>, <span style=\"color: #00af00; text-decoration-color: #00af00\">235</span>)                 │         <span style=\"color: #00af00; text-decoration-color: #00af00\">120,555</span> │\n",
              "└──────────────────────────────────────┴─────────────────────────────┴─────────────────┘\n",
              "</pre>\n"
            ]
          },
          "metadata": {}
        },
        {
          "output_type": "display_data",
          "data": {
            "text/plain": [
              "\u001b[1m Total params: \u001b[0m\u001b[38;5;34m4,410,987\u001b[0m (16.83 MB)\n"
            ],
            "text/html": [
              "<pre style=\"white-space:pre;overflow-x:auto;line-height:normal;font-family:Menlo,'DejaVu Sans Mono',consolas,'Courier New',monospace\"><span style=\"font-weight: bold\"> Total params: </span><span style=\"color: #00af00; text-decoration-color: #00af00\">4,410,987</span> (16.83 MB)\n",
              "</pre>\n"
            ]
          },
          "metadata": {}
        },
        {
          "output_type": "display_data",
          "data": {
            "text/plain": [
              "\u001b[1m Trainable params: \u001b[0m\u001b[38;5;34m4,409,515\u001b[0m (16.82 MB)\n"
            ],
            "text/html": [
              "<pre style=\"white-space:pre;overflow-x:auto;line-height:normal;font-family:Menlo,'DejaVu Sans Mono',consolas,'Courier New',monospace\"><span style=\"font-weight: bold\"> Trainable params: </span><span style=\"color: #00af00; text-decoration-color: #00af00\">4,409,515</span> (16.82 MB)\n",
              "</pre>\n"
            ]
          },
          "metadata": {}
        },
        {
          "output_type": "display_data",
          "data": {
            "text/plain": [
              "\u001b[1m Non-trainable params: \u001b[0m\u001b[38;5;34m1,472\u001b[0m (5.75 KB)\n"
            ],
            "text/html": [
              "<pre style=\"white-space:pre;overflow-x:auto;line-height:normal;font-family:Menlo,'DejaVu Sans Mono',consolas,'Courier New',monospace\"><span style=\"font-weight: bold\"> Non-trainable params: </span><span style=\"color: #00af00; text-decoration-color: #00af00\">1,472</span> (5.75 KB)\n",
              "</pre>\n"
            ]
          },
          "metadata": {}
        }
      ]
    },
    {
      "cell_type": "code",
      "source": [
        "# Compile model\n",
        "model.compile(\n",
        "    optimizer='adam',\n",
        "    loss='categorical_crossentropy',\n",
        "    metrics=['accuracy']\n",
        ")\n",
        "\n",
        "# Training callbacks\n",
        "callbacks = [\n",
        "    tf.keras.callbacks.EarlyStopping(\n",
        "        monitor='val_loss',\n",
        "        patience=5,\n",
        "        restore_best_weights=True\n",
        "    ),\n",
        "    tf.keras.callbacks.ReduceLROnPlateau(\n",
        "        monitor='val_loss',\n",
        "        factor=0.2,\n",
        "        patience=3\n",
        "    )\n",
        "]\n",
        "\n",
        "# Train model\n",
        "history = model.fit(\n",
        "    X_train_processed,\n",
        "    y_train_cat,\n",
        "    batch_size=32,\n",
        "    epochs=50,\n",
        "    validation_split=0.2,\n",
        "    callbacks=callbacks\n",
        ")"
      ],
      "metadata": {
        "colab": {
          "base_uri": "https://localhost:8080/"
        },
        "id": "6yY03i75aH8P",
        "outputId": "e71b8626-8868-47c6-cdb1-9b828330a4ac"
      },
      "execution_count": null,
      "outputs": [
        {
          "output_type": "stream",
          "name": "stdout",
          "text": [
            "Epoch 1/50\n",
            "\u001b[1m200/200\u001b[0m \u001b[32m━━━━━━━━━━━━━━━━━━━━\u001b[0m\u001b[37m\u001b[0m \u001b[1m103s\u001b[0m 495ms/step - accuracy: 0.0752 - loss: 5.4525 - val_accuracy: 0.0338 - val_loss: 6.1559 - learning_rate: 0.0010\n",
            "Epoch 2/50\n",
            "\u001b[1m200/200\u001b[0m \u001b[32m━━━━━━━━━━━━━━━━━━━━\u001b[0m\u001b[37m\u001b[0m \u001b[1m145s\u001b[0m 514ms/step - accuracy: 0.1823 - loss: 4.0784 - val_accuracy: 0.1056 - val_loss: 5.5131 - learning_rate: 0.0010\n",
            "Epoch 3/50\n",
            "\u001b[1m200/200\u001b[0m \u001b[32m━━━━━━━━━━━━━━━━━━━━\u001b[0m\u001b[37m\u001b[0m \u001b[1m143s\u001b[0m 520ms/step - accuracy: 0.3246 - loss: 3.1839 - val_accuracy: 0.2688 - val_loss: 3.6490 - learning_rate: 0.0010\n",
            "Epoch 4/50\n",
            "\u001b[1m200/200\u001b[0m \u001b[32m━━━━━━━━━━━━━━━━━━━━\u001b[0m\u001b[37m\u001b[0m \u001b[1m141s\u001b[0m 514ms/step - accuracy: 0.4296 - loss: 2.5800 - val_accuracy: 0.3431 - val_loss: 3.3585 - learning_rate: 0.0010\n",
            "Epoch 5/50\n",
            "\u001b[1m200/200\u001b[0m \u001b[32m━━━━━━━━━━━━━━━━━━━━\u001b[0m\u001b[37m\u001b[0m \u001b[1m144s\u001b[0m 526ms/step - accuracy: 0.5353 - loss: 2.0456 - val_accuracy: 0.4212 - val_loss: 2.7362 - learning_rate: 0.0010\n",
            "Epoch 6/50\n",
            "\u001b[1m200/200\u001b[0m \u001b[32m━━━━━━━━━━━━━━━━━━━━\u001b[0m\u001b[37m\u001b[0m \u001b[1m132s\u001b[0m 478ms/step - accuracy: 0.6307 - loss: 1.5975 - val_accuracy: 0.4394 - val_loss: 2.7130 - learning_rate: 0.0010\n",
            "Epoch 7/50\n",
            "\u001b[1m200/200\u001b[0m \u001b[32m━━━━━━━━━━━━━━━━━━━━\u001b[0m\u001b[37m\u001b[0m \u001b[1m147s\u001b[0m 503ms/step - accuracy: 0.7002 - loss: 1.3079 - val_accuracy: 0.4819 - val_loss: 2.4480 - learning_rate: 0.0010\n",
            "Epoch 8/50\n",
            "\u001b[1m200/200\u001b[0m \u001b[32m━━━━━━━━━━━━━━━━━━━━\u001b[0m\u001b[37m\u001b[0m \u001b[1m141s\u001b[0m 501ms/step - accuracy: 0.7649 - loss: 1.0389 - val_accuracy: 0.5069 - val_loss: 2.3901 - learning_rate: 0.0010\n",
            "Epoch 9/50\n",
            "\u001b[1m200/200\u001b[0m \u001b[32m━━━━━━━━━━━━━━━━━━━━\u001b[0m\u001b[37m\u001b[0m \u001b[1m94s\u001b[0m 470ms/step - accuracy: 0.8007 - loss: 0.8334 - val_accuracy: 0.5344 - val_loss: 2.2681 - learning_rate: 0.0010\n",
            "Epoch 10/50\n",
            "\u001b[1m200/200\u001b[0m \u001b[32m━━━━━━━━━━━━━━━━━━━━\u001b[0m\u001b[37m\u001b[0m \u001b[1m145s\u001b[0m 486ms/step - accuracy: 0.8366 - loss: 0.6958 - val_accuracy: 0.5206 - val_loss: 2.3707 - learning_rate: 0.0010\n",
            "Epoch 11/50\n",
            "\u001b[1m200/200\u001b[0m \u001b[32m━━━━━━━━━━━━━━━━━━━━\u001b[0m\u001b[37m\u001b[0m \u001b[1m141s\u001b[0m 481ms/step - accuracy: 0.8713 - loss: 0.5543 - val_accuracy: 0.5013 - val_loss: 2.4869 - learning_rate: 0.0010\n",
            "Epoch 12/50\n",
            "\u001b[1m200/200\u001b[0m \u001b[32m━━━━━━━━━━━━━━━━━━━━\u001b[0m\u001b[37m\u001b[0m \u001b[1m150s\u001b[0m 522ms/step - accuracy: 0.8963 - loss: 0.4471 - val_accuracy: 0.5138 - val_loss: 2.3701 - learning_rate: 0.0010\n",
            "Epoch 13/50\n",
            "\u001b[1m200/200\u001b[0m \u001b[32m━━━━━━━━━━━━━━━━━━━━\u001b[0m\u001b[37m\u001b[0m \u001b[1m95s\u001b[0m 477ms/step - accuracy: 0.9216 - loss: 0.3374 - val_accuracy: 0.5838 - val_loss: 2.0430 - learning_rate: 2.0000e-04\n",
            "Epoch 14/50\n",
            "\u001b[1m200/200\u001b[0m \u001b[32m━━━━━━━━━━━━━━━━━━━━\u001b[0m\u001b[37m\u001b[0m \u001b[1m98s\u001b[0m 488ms/step - accuracy: 0.9330 - loss: 0.2946 - val_accuracy: 0.5881 - val_loss: 2.0164 - learning_rate: 2.0000e-04\n",
            "Epoch 15/50\n",
            "\u001b[1m200/200\u001b[0m \u001b[32m━━━━━━━━━━━━━━━━━━━━\u001b[0m\u001b[37m\u001b[0m \u001b[1m146s\u001b[0m 509ms/step - accuracy: 0.9409 - loss: 0.2519 - val_accuracy: 0.6000 - val_loss: 1.9762 - learning_rate: 2.0000e-04\n",
            "Epoch 16/50\n",
            "\u001b[1m200/200\u001b[0m \u001b[32m━━━━━━━━━━━━━━━━━━━━\u001b[0m\u001b[37m\u001b[0m \u001b[1m140s\u001b[0m 502ms/step - accuracy: 0.9543 - loss: 0.2310 - val_accuracy: 0.6000 - val_loss: 1.9687 - learning_rate: 2.0000e-04\n",
            "Epoch 17/50\n",
            "\u001b[1m200/200\u001b[0m \u001b[32m━━━━━━━━━━━━━━━━━━━━\u001b[0m\u001b[37m\u001b[0m \u001b[1m146s\u001b[0m 521ms/step - accuracy: 0.9532 - loss: 0.2256 - val_accuracy: 0.6037 - val_loss: 1.9757 - learning_rate: 2.0000e-04\n",
            "Epoch 18/50\n",
            "\u001b[1m200/200\u001b[0m \u001b[32m━━━━━━━━━━━━━━━━━━━━\u001b[0m\u001b[37m\u001b[0m \u001b[1m138s\u001b[0m 502ms/step - accuracy: 0.9621 - loss: 0.1888 - val_accuracy: 0.6000 - val_loss: 1.9844 - learning_rate: 2.0000e-04\n",
            "Epoch 19/50\n",
            "\u001b[1m200/200\u001b[0m \u001b[32m━━━━━━━━━━━━━━━━━━━━\u001b[0m\u001b[37m\u001b[0m \u001b[1m101s\u001b[0m 507ms/step - accuracy: 0.9614 - loss: 0.1846 - val_accuracy: 0.6025 - val_loss: 1.9886 - learning_rate: 2.0000e-04\n",
            "Epoch 20/50\n",
            "\u001b[1m200/200\u001b[0m \u001b[32m━━━━━━━━━━━━━━━━━━━━\u001b[0m\u001b[37m\u001b[0m \u001b[1m141s\u001b[0m 501ms/step - accuracy: 0.9645 - loss: 0.1702 - val_accuracy: 0.6037 - val_loss: 1.9677 - learning_rate: 4.0000e-05\n",
            "Epoch 21/50\n",
            "\u001b[1m200/200\u001b[0m \u001b[32m━━━━━━━━━━━━━━━━━━━━\u001b[0m\u001b[37m\u001b[0m \u001b[1m143s\u001b[0m 507ms/step - accuracy: 0.9673 - loss: 0.1606 - val_accuracy: 0.6044 - val_loss: 1.9662 - learning_rate: 4.0000e-05\n",
            "Epoch 22/50\n",
            "\u001b[1m200/200\u001b[0m \u001b[32m━━━━━━━━━━━━━━━━━━━━\u001b[0m\u001b[37m\u001b[0m \u001b[1m136s\u001b[0m 479ms/step - accuracy: 0.9728 - loss: 0.1544 - val_accuracy: 0.6056 - val_loss: 1.9647 - learning_rate: 4.0000e-05\n",
            "Epoch 23/50\n",
            "\u001b[1m200/200\u001b[0m \u001b[32m━━━━━━━━━━━━━━━━━━━━\u001b[0m\u001b[37m\u001b[0m \u001b[1m141s\u001b[0m 475ms/step - accuracy: 0.9673 - loss: 0.1608 - val_accuracy: 0.6044 - val_loss: 1.9672 - learning_rate: 4.0000e-05\n",
            "Epoch 24/50\n",
            "\u001b[1m200/200\u001b[0m \u001b[32m━━━━━━━━━━━━━━━━━━━━\u001b[0m\u001b[37m\u001b[0m \u001b[1m142s\u001b[0m 476ms/step - accuracy: 0.9639 - loss: 0.1683 - val_accuracy: 0.6062 - val_loss: 1.9618 - learning_rate: 4.0000e-05\n",
            "Epoch 25/50\n",
            "\u001b[1m200/200\u001b[0m \u001b[32m━━━━━━━━━━━━━━━━━━━━\u001b[0m\u001b[37m\u001b[0m \u001b[1m145s\u001b[0m 492ms/step - accuracy: 0.9708 - loss: 0.1484 - val_accuracy: 0.6081 - val_loss: 1.9602 - learning_rate: 4.0000e-05\n",
            "Epoch 26/50\n",
            "\u001b[1m200/200\u001b[0m \u001b[32m━━━━━━━━━━━━━━━━━━━━\u001b[0m\u001b[37m\u001b[0m \u001b[1m98s\u001b[0m 492ms/step - accuracy: 0.9748 - loss: 0.1413 - val_accuracy: 0.6075 - val_loss: 1.9571 - learning_rate: 4.0000e-05\n",
            "Epoch 27/50\n",
            "\u001b[1m200/200\u001b[0m \u001b[32m━━━━━━━━━━━━━━━━━━━━\u001b[0m\u001b[37m\u001b[0m \u001b[1m142s\u001b[0m 493ms/step - accuracy: 0.9709 - loss: 0.1524 - val_accuracy: 0.6100 - val_loss: 1.9595 - learning_rate: 4.0000e-05\n",
            "Epoch 28/50\n",
            "\u001b[1m200/200\u001b[0m \u001b[32m━━━━━━━━━━━━━━━━━━━━\u001b[0m\u001b[37m\u001b[0m \u001b[1m99s\u001b[0m 497ms/step - accuracy: 0.9699 - loss: 0.1509 - val_accuracy: 0.6087 - val_loss: 1.9602 - learning_rate: 4.0000e-05\n",
            "Epoch 29/50\n",
            "\u001b[1m200/200\u001b[0m \u001b[32m━━━━━━━━━━━━━━━━━━━━\u001b[0m\u001b[37m\u001b[0m \u001b[1m141s\u001b[0m 494ms/step - accuracy: 0.9733 - loss: 0.1420 - val_accuracy: 0.6137 - val_loss: 1.9500 - learning_rate: 4.0000e-05\n",
            "Epoch 30/50\n",
            "\u001b[1m200/200\u001b[0m \u001b[32m━━━━━━━━━━━━━━━━━━━━\u001b[0m\u001b[37m\u001b[0m \u001b[1m147s\u001b[0m 517ms/step - accuracy: 0.9737 - loss: 0.1384 - val_accuracy: 0.6056 - val_loss: 1.9617 - learning_rate: 4.0000e-05\n",
            "Epoch 31/50\n",
            "\u001b[1m200/200\u001b[0m \u001b[32m━━━━━━━━━━━━━━━━━━━━\u001b[0m\u001b[37m\u001b[0m \u001b[1m134s\u001b[0m 477ms/step - accuracy: 0.9772 - loss: 0.1288 - val_accuracy: 0.6075 - val_loss: 1.9600 - learning_rate: 4.0000e-05\n",
            "Epoch 32/50\n",
            "\u001b[1m200/200\u001b[0m \u001b[32m━━━━━━━━━━━━━━━━━━━━\u001b[0m\u001b[37m\u001b[0m \u001b[1m144s\u001b[0m 485ms/step - accuracy: 0.9766 - loss: 0.1294 - val_accuracy: 0.6137 - val_loss: 1.9536 - learning_rate: 4.0000e-05\n",
            "Epoch 33/50\n",
            "\u001b[1m200/200\u001b[0m \u001b[32m━━━━━━━━━━━━━━━━━━━━\u001b[0m\u001b[37m\u001b[0m \u001b[1m144s\u001b[0m 494ms/step - accuracy: 0.9748 - loss: 0.1360 - val_accuracy: 0.6137 - val_loss: 1.9535 - learning_rate: 8.0000e-06\n",
            "Epoch 34/50\n",
            "\u001b[1m200/200\u001b[0m \u001b[32m━━━━━━━━━━━━━━━━━━━━\u001b[0m\u001b[37m\u001b[0m \u001b[1m140s\u001b[0m 487ms/step - accuracy: 0.9725 - loss: 0.1355 - val_accuracy: 0.6131 - val_loss: 1.9531 - learning_rate: 8.0000e-06\n"
          ]
        }
      ]
    },
    {
      "cell_type": "markdown",
      "source": [
        "# Evaluation"
      ],
      "metadata": {
        "id": "5LujlVISjTvj"
      }
    },
    {
      "cell_type": "code",
      "source": [
        "# Evaluation\n",
        "print(\"\\nEvaluating model...\")\n",
        "y_pred = model.predict(X_test_processed)\n",
        "y_pred_classes = np.argmax(y_pred, axis=1)\n",
        "y_test_classes = np.argmax(y_test_cat, axis=1)\n",
        "\n",
        "# Calculate metrics\n",
        "accuracy = accuracy_score(y_test_classes, y_pred_classes)\n",
        "precision = precision_score(y_test_classes, y_pred_classes, average='weighted')\n",
        "recall = recall_score(y_test_classes, y_pred_classes, average='weighted')\n",
        "f1 = f1_score(y_test_classes, y_pred_classes, average='weighted')\n",
        "\n",
        "print(\"\\nModel Performance Metrics:\")\n",
        "print(f\"Accuracy: {accuracy:.4f}\")\n",
        "print(f\"Precision: {precision:.4f}\")\n",
        "print(f\"Recall: {recall:.4f}\")\n",
        "print(f\"F1-Score: {f1:.4f}\")\n",
        "\n",
        "# Visualisasi hasil training\n",
        "plt.figure(figsize=(12, 4))\n",
        "\n",
        "# Plot accuracy\n",
        "plt.subplot(1, 2, 1)\n",
        "plt.plot(history.history['accuracy'], label='Training Accuracy')\n",
        "plt.plot(history.history['val_accuracy'], label='Validation Accuracy')\n",
        "plt.title('Model Accuracy')\n",
        "plt.xlabel('Epoch')\n",
        "plt.ylabel('Accuracy')\n",
        "plt.legend()\n",
        "\n",
        "# Plot loss\n",
        "plt.subplot(1, 2, 2)\n",
        "plt.plot(history.history['loss'], label='Training Loss')\n",
        "plt.plot(history.history['val_loss'], label='Validation Loss')\n",
        "plt.title('Model Loss')\n",
        "plt.xlabel('Epoch')\n",
        "plt.ylabel('Loss')\n",
        "plt.legend()\n",
        "\n",
        "plt.tight_layout()\n",
        "plt.show()"
      ],
      "metadata": {
        "id": "Wg8aT793jRrm",
        "colab": {
          "base_uri": "https://localhost:8080/"
        },
        "outputId": "0b0a6a77-dee8-4a73-a937-613a20052ed9"
      },
      "execution_count": null,
      "outputs": [
        {
          "output_type": "stream",
          "name": "stdout",
          "text": [
            "\n",
            "Evaluating model...\n",
            "\u001b[1m63/63\u001b[0m \u001b[32m━━━━━━━━━━━━━━━━━━━━\u001b[0m\u001b[37m\u001b[0m \u001b[1m8s\u001b[0m 129ms/step\n",
            "\n",
            "Model Performance Metrics:\n",
            "Accuracy: 0.5965\n",
            "Precision: 0.6011\n",
            "Recall: 0.5965\n",
            "F1-Score: 0.5722\n"
          ]
        },
        {
          "output_type": "stream",
          "name": "stderr",
          "text": [
            "/usr/local/lib/python3.10/dist-packages/sklearn/metrics/_classification.py:1531: UndefinedMetricWarning: Precision is ill-defined and being set to 0.0 in labels with no predicted samples. Use `zero_division` parameter to control this behavior.\n",
            "  _warn_prf(average, modifier, f\"{metric.capitalize()} is\", len(result))\n",
            "/usr/local/lib/python3.10/dist-packages/sklearn/metrics/_classification.py:1531: UndefinedMetricWarning: Recall is ill-defined and being set to 0.0 in labels with no true samples. Use `zero_division` parameter to control this behavior.\n",
            "  _warn_prf(average, modifier, f\"{metric.capitalize()} is\", len(result))\n"
          ]
        },
        {
          "output_type": "display_data",
          "data": {
            "text/plain": [
              "<Figure size 1200x400 with 2 Axes>"
            ],
            "image/png": "[encoded data removed]"
          },
          "metadata": {}
        }
      ]
    }
  ]
}